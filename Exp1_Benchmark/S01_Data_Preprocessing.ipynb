{
 "cells": [
  {
   "cell_type": "markdown",
   "id": "276684ea",
   "metadata": {},
   "source": [
    "## Run to preprocess scATAC-seq data and reorder the peaks: \n",
    "the chromosomes are first sorted in order from 1 to 24, and then the inner peaks of each chromosome are sorted"
   ]
  },
  {
   "cell_type": "code",
   "execution_count": 1,
   "id": "d37c55f4",
   "metadata": {},
   "outputs": [],
   "source": [
    "import sys\n",
    "sys.path.append('../Scarp/')\n",
    "\n",
    "from data_preprocessing import sort_peaks, construct_3col_to_sparse_mat\n",
    "import re\n",
    "from scipy.sparse import csc_matrix\n",
    "import scanpy as sc\n",
    "import numpy as np\n",
    "import pandas as pd\n",
    "import warnings\n",
    "warnings.filterwarnings(\"ignore\")"
   ]
  },
  {
   "cell_type": "markdown",
   "id": "7aa20d51",
   "metadata": {},
   "source": [
    "### for the data downloaded from https://github.com/jsxlei/SCALE"
   ]
  },
  {
   "cell_type": "code",
   "execution_count": 2,
   "id": "b67d5584",
   "metadata": {},
   "outputs": [],
   "source": [
    "Data_name = ['InSilico', 'GM12878vsHEK', 'Breast_Tumor',\n",
    "             'Leukemia', 'GM12878vsHL', 'Forebrain', 'Splenocyte']"
   ]
  },
  {
   "cell_type": "code",
   "execution_count": 3,
   "id": "5a073e90",
   "metadata": {
    "scrolled": false
   },
   "outputs": [
    {
     "name": "stdout",
     "output_type": "stream",
     "text": [
      "============================InSilico================================\n",
      "Number of Peaks: 13668\n",
      "Number of Cells: 828\n",
      "Number of Clusters:  6\n",
      "============================GM12878vsHEK================================\n",
      "Number of Peaks: 12938\n",
      "Number of Cells: 526\n",
      "Number of Clusters:  3\n",
      "============================Breast_Tumor================================\n",
      "Number of Peaks: 27884\n",
      "Number of Cells: 384\n",
      "Number of Clusters:  4\n",
      "============================Leukemia================================\n",
      "Number of Peaks: 7602\n",
      "Number of Cells: 391\n",
      "Number of Clusters:  6\n",
      "============================GM12878vsHL================================\n",
      "Number of Peaks: 10431\n",
      "Number of Cells: 597\n",
      "Number of Clusters:  3\n",
      "============================Forebrain================================\n",
      "Number of Peaks: 11285\n",
      "Number of Cells: 2088\n",
      "Number of Clusters:  8\n",
      "============================Splenocyte================================\n",
      "Number of Peaks: 77453\n",
      "Number of Cells: 3166\n",
      "Number of Clusters:  12\n"
     ]
    }
   ],
   "source": [
    "for data_name in Data_name:\n",
    "    data_file = './Raw data/' + data_name + '.h5ad'\n",
    "    save_file = './Processed data/' + data_name + '.h5ad'\n",
    "\n",
    "    print('============================%s================================' % data_name)\n",
    "    data = sc.read_h5ad(data_file)\n",
    "\n",
    "    Cells = data.obs.index\n",
    "    labels = data.obs['celltype'].astype('category')\n",
    "\n",
    "    # label Breast_Tumor \n",
    "    if data_name == 'Breast_Tumor':\n",
    "        cell_type_split = np.array([i.split('-') for i in Cells])\n",
    "        labels = pd.DataFrame([cell_type_split[:, 1][i] + '(' + labels[i] + ')' for i in range(labels.shape[0])],\n",
    "                              index=labels.index, columns=['label'])\n",
    "        labels = labels['label'].astype('category')\n",
    "        data.obs['celltype'] = labels\n",
    "\n",
    "    Cells_num, Peaks_num = data.X.shape\n",
    "    cluster_num = np.unique(labels).shape[0]\n",
    "    print('Number of Peaks:', Peaks_num)\n",
    "    print('Number of Cells:', Cells_num)\n",
    "    print('Number of Clusters: ', cluster_num)\n",
    "\n",
    "    data = sort_peaks(data)\n",
    "    data.write(save_file)"
   ]
  },
  {
   "cell_type": "markdown",
   "id": "981ccc31",
   "metadata": {},
   "source": [
    "   "
   ]
  },
  {
   "cell_type": "markdown",
   "id": "af1d84ed",
   "metadata": {},
   "source": [
    "### for blood2K dataset"
   ]
  },
  {
   "cell_type": "code",
   "execution_count": 4,
   "id": "ade725bf",
   "metadata": {},
   "outputs": [],
   "source": [
    "Count_df = pd.read_csv('./Raw data/blood2K/Filter_df.txt', sep='\\t')\n",
    "metadata = pd.read_csv('./Raw data/blood2K/metadata.txt', sep='\\t', header=None, index_col=0, names=['label'])\n",
    "Cells = pd.read_csv('./Raw data/blood2K/Filter_Cells.txt', sep='\\t', header=None)\n",
    "Peaks = pd.read_csv('./Raw data/blood2K/Filter_Peaks.txt', sep='\\t', header=None)"
   ]
  },
  {
   "cell_type": "code",
   "execution_count": 5,
   "id": "060db209",
   "metadata": {},
   "outputs": [
    {
     "name": "stdout",
     "output_type": "stream",
     "text": [
      "Number of Peaks: 134962\n",
      "Number of Cells: 2034\n"
     ]
    }
   ],
   "source": [
    "Peaks_num = Count_df['Peaks'].max()\n",
    "Cells_num = Count_df['Cells'].max()\n",
    "print('Number of Peaks:', Peaks_num)\n",
    "print('Number of Cells:', Cells_num)"
   ]
  },
  {
   "cell_type": "code",
   "execution_count": 6,
   "id": "76985b78",
   "metadata": {},
   "outputs": [],
   "source": [
    "sparse_mat = construct_3col_to_sparse_mat(Count_df, \n",
    "                                          normalization=False, \n",
    "                                          binarization=False, \n",
    "                                          return_shape='CP')"
   ]
  },
  {
   "cell_type": "code",
   "execution_count": 7,
   "id": "e10d3f9b",
   "metadata": {},
   "outputs": [
    {
     "data": {
      "text/plain": [
       "AnnData object with n_obs × n_vars = 2034 × 134962\n",
       "    obs: 'celltype'"
      ]
     },
     "execution_count": 7,
     "metadata": {},
     "output_type": "execute_result"
    }
   ],
   "source": [
    "adata = sc.AnnData(sparse_mat)\n",
    "adata.var_names_make_unique()\n",
    "adata.var = pd.DataFrame(index=list(Peaks[0]))\n",
    "adata.obs = metadata\n",
    "adata.obs.columns = ['celltype']\n",
    "adata"
   ]
  },
  {
   "cell_type": "code",
   "execution_count": 8,
   "id": "8f2ba155",
   "metadata": {},
   "outputs": [],
   "source": [
    "adata = sort_peaks(adata)\n",
    "adata.write('./Processed data/blood2K.h5ad')"
   ]
  },
  {
   "cell_type": "markdown",
   "id": "384abd3d",
   "metadata": {},
   "source": [
    "  "
   ]
  },
  {
   "cell_type": "markdown",
   "id": "5bb6f31a",
   "metadata": {},
   "source": [
    "### for SOX10 knockdown dataset"
   ]
  },
  {
   "cell_type": "code",
   "execution_count": 9,
   "id": "6565bf35",
   "metadata": {},
   "outputs": [],
   "source": [
    "file = './Raw data/SOX10/GSE114557_MM057_MM087_Sox10KD_GoodCells_mergedPeaks_correctformat.counts.txt'\n",
    "count_data = pd.read_table(file, index_col=0)"
   ]
  },
  {
   "cell_type": "code",
   "execution_count": 10,
   "id": "ebe6b99d",
   "metadata": {},
   "outputs": [],
   "source": [
    "cell_info = count_data.columns.to_list()\n",
    "cell_info = np.array([re.split('_|\\W+', i) for i in cell_info])\n",
    "cell_type = [cell_info[i, 2] + '_' + cell_info[i, 4] for i in range(cell_info.shape[0])]"
   ]
  },
  {
   "cell_type": "code",
   "execution_count": 11,
   "id": "39500a9a",
   "metadata": {},
   "outputs": [
    {
     "data": {
      "text/plain": [
       "AnnData object with n_obs × n_vars = 598 × 78661\n",
       "    obs: 'celltype'"
      ]
     },
     "execution_count": 11,
     "metadata": {},
     "output_type": "execute_result"
    }
   ],
   "source": [
    "adata = sc.AnnData(csc_matrix(count_data.T))\n",
    "adata.var.index = count_data.index\n",
    "adata.obs.index = count_data.columns\n",
    "adata.obs['celltype'] = pd.Series(cell_type, dtype='category', index=count_data.columns)\n",
    "adata"
   ]
  },
  {
   "cell_type": "code",
   "execution_count": 12,
   "id": "6cb36ee7",
   "metadata": {},
   "outputs": [],
   "source": [
    "adata = sort_peaks(adata)\n",
    "adata.write('./Processed data/Sox10KD.h5ad')"
   ]
  }
 ],
 "metadata": {
  "kernelspec": {
   "display_name": "scarp1",
   "language": "python",
   "name": "scarp1"
  },
  "language_info": {
   "codemirror_mode": {
    "name": "ipython",
    "version": 3
   },
   "file_extension": ".py",
   "mimetype": "text/x-python",
   "name": "python",
   "nbconvert_exporter": "python",
   "pygments_lexer": "ipython3",
   "version": "3.8.13"
  }
 },
 "nbformat": 4,
 "nbformat_minor": 5
}
