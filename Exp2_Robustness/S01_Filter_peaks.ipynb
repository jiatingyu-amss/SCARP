{
 "cells": [
  {
   "cell_type": "markdown",
   "id": "8a641751",
   "metadata": {},
   "source": [
    "## Filter peaks according to variance or counts for SOX10 data and blood2K data"
   ]
  },
  {
   "cell_type": "code",
   "execution_count": 1,
   "id": "0ac824da",
   "metadata": {},
   "outputs": [],
   "source": [
    "import scanpy as sc\n",
    "import numpy as np\n",
    "import pandas as pd\n",
    "import sys\n",
    "sys.path.append('../Scarp/')\n",
    "from data_preprocessing import Mat_normalization\n",
    "import warnings\n",
    "warnings.filterwarnings(\"ignore\")"
   ]
  },
  {
   "cell_type": "markdown",
   "id": "0a9089bb",
   "metadata": {},
   "source": [
    "### 1. Filter according to counts"
   ]
  },
  {
   "cell_type": "code",
   "execution_count": 2,
   "id": "af2b62c3",
   "metadata": {},
   "outputs": [],
   "source": [
    "adata_blood2k = sc.read_h5ad('../Exp1_Benchmark/Processed data/blood2K.h5ad')\n",
    "for filter_cells in np.array([30, 40, 50, 60, 70]):\n",
    "    adata1_blood2k = adata_blood2k.copy()\n",
    "    sc.pp.filter_genes(adata1_blood2k, min_cells=filter_cells)\n",
    "    adata1_blood2k.write('./Processed data/blood2K_filter'+str(filter_cells)+'.h5ad')"
   ]
  },
  {
   "cell_type": "code",
   "execution_count": 3,
   "id": "d8bfb2f8",
   "metadata": {},
   "outputs": [],
   "source": [
    "adata_Sox10KD = sc.read_h5ad('../Exp1_Benchmark/Processed data/Sox10KD.h5ad')\n",
    "for filter_cells in np.array([10, 20, 30, 40, 50]):\n",
    "    adata1_Sox10KD = adata_Sox10KD.copy()\n",
    "    sc.pp.filter_genes(adata1_Sox10KD, min_cells=filter_cells)\n",
    "    adata1_Sox10KD.write('./Processed data/Sox10KD_filter'+str(filter_cells)+'.h5ad')"
   ]
  },
  {
   "cell_type": "markdown",
   "id": "be563b8d",
   "metadata": {},
   "source": [
    "### 2. Filter according to vaiance"
   ]
  },
  {
   "cell_type": "code",
   "execution_count": 4,
   "id": "2fb4d03f",
   "metadata": {},
   "outputs": [],
   "source": [
    "Cells_blood2k = adata_blood2k.obs.index\n",
    "labels_blood2k = adata_blood2k.obs['celltype'].astype('category')\n",
    "\n",
    "sparse_matrix_blood2k = adata_blood2k.X  # sparse matrix\n",
    "sparse_matrix_blood2k = (sparse_matrix_blood2k > 0) * 1  # binary\n",
    "sparse_matrix_blood2k = Mat_normalization(sparse_matrix_blood2k)  # normalization"
   ]
  },
  {
   "cell_type": "code",
   "execution_count": 5,
   "id": "26d32ddb",
   "metadata": {},
   "outputs": [],
   "source": [
    "peak_std = np.std(np.array(sparse_matrix_blood2k.todense()), 0)\n",
    "\n",
    "for remove_prop in np.around(np.arange(0.5, 0.91, 0.1), 2):\n",
    "    keep_peak_index = np.where(peak_std >= np.quantile(peak_std, remove_prop))\n",
    "\n",
    "    filter_data_df = pd.DataFrame(index = Cells_blood2k,\n",
    "                                  columns = adata_blood2k.var.index[keep_peak_index])\n",
    "    filter_data = sc.AnnData(filter_data_df)\n",
    "    filter_data.X = sparse_matrix_blood2k.copy()[:, keep_peak_index[0]]\n",
    "    filter_data.var_names_make_unique()\n",
    "    filter_data.obs['celltype'] = labels_blood2k\n",
    "\n",
    "    filter_data.write('./Processed data/blood2k_filter_var' + str(remove_prop) + '.h5ad')"
   ]
  },
  {
   "cell_type": "code",
   "execution_count": 6,
   "id": "60540afe",
   "metadata": {},
   "outputs": [],
   "source": [
    "Cells_Sox10KD = adata_Sox10KD.obs.index\n",
    "labels_Sox10KD = adata_Sox10KD.obs['celltype'].astype('category')\n",
    "\n",
    "sparse_matrix_Sox10KD = adata_Sox10KD.X  # sparse matrix\n",
    "sparse_matrix_Sox10KD = (sparse_matrix_Sox10KD > 0) * 1  # binary\n",
    "sparse_matrix_Sox10KD = Mat_normalization(sparse_matrix_Sox10KD)  # normalization"
   ]
  },
  {
   "cell_type": "code",
   "execution_count": 7,
   "id": "e789756b",
   "metadata": {},
   "outputs": [],
   "source": [
    "peak_std = np.std(np.array(sparse_matrix_Sox10KD.todense()), 0)\n",
    "\n",
    "for remove_prop in np.around(np.arange(0.5, 0.91, 0.1), 2):\n",
    "    keep_peak_index = np.where(peak_std >= np.quantile(peak_std, remove_prop))\n",
    "\n",
    "    filter_data_df = pd.DataFrame(index = Cells_Sox10KD,\n",
    "                                  columns = adata_Sox10KD.var.index[keep_peak_index])\n",
    "    filter_data = sc.AnnData(filter_data_df)\n",
    "    filter_data.X = sparse_matrix_Sox10KD.copy()[:, keep_peak_index[0]]\n",
    "    filter_data.var_names_make_unique()\n",
    "    filter_data.obs['celltype'] = labels_Sox10KD\n",
    "\n",
    "    filter_data.write('./Processed data/Sox10KD_filter_var' + str(remove_prop) + '.h5ad')"
   ]
  },
  {
   "cell_type": "code",
   "execution_count": null,
   "id": "012a88b8",
   "metadata": {},
   "outputs": [],
   "source": []
  }
 ],
 "metadata": {
  "kernelspec": {
   "display_name": "scarp1",
   "language": "python",
   "name": "scarp1"
  },
  "language_info": {
   "codemirror_mode": {
    "name": "ipython",
    "version": 3
   },
   "file_extension": ".py",
   "mimetype": "text/x-python",
   "name": "python",
   "nbconvert_exporter": "python",
   "pygments_lexer": "ipython3",
   "version": "3.8.13"
  }
 },
 "nbformat": 4,
 "nbformat_minor": 5
}
