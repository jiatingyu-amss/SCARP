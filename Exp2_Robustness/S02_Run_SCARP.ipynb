{
 "cells": [
  {
   "cell_type": "markdown",
   "id": "8de0b666",
   "metadata": {},
   "source": [
    "### Test the robustness of SCARP"
   ]
  },
  {
   "cell_type": "code",
   "execution_count": null,
   "id": "bd5ea036",
   "metadata": {},
   "outputs": [],
   "source": [
    "import sys\n",
    "sys.path.append('../Scarp/')\n",
    "from downstream import *\n",
    "import warnings\n",
    "warnings.filterwarnings(\"ignore\")"
   ]
  },
  {
   "cell_type": "code",
   "execution_count": null,
   "id": "4609af97",
   "metadata": {},
   "outputs": [],
   "source": [
    "np.random.seed(1)\n",
    "\n",
    "random_state = 1\n",
    "m = 1.5\n",
    "merge_thre = 3000\n",
    "beta = 5000"
   ]
  },
  {
   "cell_type": "code",
   "execution_count": null,
   "id": "f06d3323",
   "metadata": {},
   "outputs": [],
   "source": [
    "# data_type = 'blood2k'\n",
    "# Data_name = ['blood2K_filter30', 'blood2K_filter40',\n",
    "#              'blood2K_filter50', 'blood2K_filter60',\n",
    "#              'blood2K_filter70', 'blood2K_filter_var0.5',\n",
    "#              'blood2K_filter_var0.6', 'blood2K_filter_var0.7',\n",
    "#              'blood2K_filter_var0.8', 'blood2K_filter_var0.9']"
   ]
  },
  {
   "cell_type": "code",
   "execution_count": null,
   "id": "c92a1023",
   "metadata": {},
   "outputs": [],
   "source": [
    "data_type = 'Sox10KD'\n",
    "Data_name = ['Sox10KD_filter10', 'Sox10KD_filter20',\n",
    "             'Sox10KD_filter30', 'Sox10KD_filter40',\n",
    "             'Sox10KD_filter50', 'Sox10KD_filter_var0.5',\n",
    "             'Sox10KD_filter_var0.6', 'Sox10KD_filter_var0.7',\n",
    "             'Sox10KD_filter_var0.8', 'Sox10KD_filter_var0.9']"
   ]
  },
  {
   "cell_type": "code",
   "execution_count": null,
   "id": "eade297d",
   "metadata": {},
   "outputs": [],
   "source": [
    "louvain_ARI_score = pd.DataFrame(index=Data_name, columns=['score'])\n",
    "louvain_NMI_score = pd.DataFrame(index=Data_name, columns=['score'])\n",
    "\n",
    "running_time = np.zeros(len(Data_name))\n",
    "Peaks_number = np.zeros(len(Data_name))\n",
    "Kept_component = np.zeros(len(Data_name))"
   ]
  },
  {
   "cell_type": "code",
   "execution_count": null,
   "id": "e8ad8085",
   "metadata": {},
   "outputs": [],
   "source": [
    "for d in range(len(Data_name)):\n",
    "    data_name = Data_name[d]\n",
    "    print('\\n++++++++++++++++++++ %s ++++++++++++++++++++++++' % data_name)\n",
    "\n",
    "    # ===========================================================================================\n",
    "    data = sc.read_h5ad('./Processed data/' + data_name + '.h5ad')\n",
    "\n",
    "    Cells = data.obs.index\n",
    "    Cells_num, Peaks_num = data.X.shape\n",
    "    N = Cells_num + Peaks_num\n",
    "    labels = data.obs['celltype'].astype('category')\n",
    "    cluster_num = np.unique(labels).shape[0]\n",
    "    print('Number of Peaks:', Peaks_num)\n",
    "    print('Number of Cells:', Cells_num)\n",
    "    print('Number of labels: ', cluster_num)\n",
    "    Peaks_number[d] = Peaks_num\n",
    "\n",
    "    # ===========================================================================================\n",
    "    t, diffusion_mat = SCARP(data=data,\n",
    "                             m=m,\n",
    "                             merge_thre=merge_thre,\n",
    "                             beta=beta,\n",
    "                             peak_loc=True)\n",
    "    running_time[d] = t\n",
    "\n",
    "    if Peaks_num > 50000:\n",
    "        k = std_plot(data=diffusion_mat,\n",
    "                     title=data_name,\n",
    "                     max_k=100,\n",
    "                     plot_std=False)\n",
    "    else:\n",
    "        k = std_plot(data=diffusion_mat,\n",
    "                     title=data_name,\n",
    "                     max_k=50,\n",
    "                     plot_std=False)\n",
    "\n",
    "    Kept_component[d] = k\n",
    "\n",
    "    SCARP_score = compute_score(data_name=data_name,\n",
    "                                diffusion_mat=diffusion_mat,\n",
    "                                cluster_num=cluster_num,\n",
    "                                labels=labels,\n",
    "                                Cells=Cells,\n",
    "                                kept_comp=k,\n",
    "                                random_state=1\n",
    "                                )\n",
    "\n",
    "    louvain_ARI_score['score'][data_name] = SCARP_score['ARI']['louvain']\n",
    "    louvain_NMI_score['score'][data_name] = SCARP_score['NMI']['louvain']"
   ]
  },
  {
   "cell_type": "markdown",
   "id": "8208c023",
   "metadata": {},
   "source": [
    "## plot"
   ]
  },
  {
   "cell_type": "code",
   "execution_count": null,
   "id": "1c15ebe9",
   "metadata": {},
   "outputs": [],
   "source": [
    "louvain_ARI_score = louvain_ARI_score.astype('float')\n",
    "louvain_NMI_score = louvain_NMI_score.astype('float')\n",
    "running_time = running_time.astype('float')\n",
    "Peaks_number = Peaks_number.astype('float')\n",
    "\n",
    "louvain_ARI_score.to_csv('./Results/'+data_type+'_louvain_ARI_score.txt', sep='\\t')\n",
    "louvain_NMI_score.to_csv('./Results/'+data_type+'_louvain_NMI_score.txt', sep='\\t')"
   ]
  },
  {
   "cell_type": "code",
   "execution_count": null,
   "id": "80cb4a8c",
   "metadata": {},
   "outputs": [],
   "source": [
    "if data_type == 'blood2k':\n",
    "    x = ['30', '40', '50', '60', '70', '', '0.5', '0.6', '0.7', '0.8', '0.9']\n",
    "elif data_type == 'Sox10KD':\n",
    "    x = ['10', '20', '30', '40', '50', '', '0.5', '0.6', '0.7', '0.8', '0.9']\n",
    "\n",
    "y_louvain_ARI = np.append(np.append(np.array(louvain_ARI_score['score'][0:5]), 0),\n",
    "                          np.array(louvain_ARI_score['score'][5:]))\n",
    "y_louvain_NMI = np.append(np.append(np.array(louvain_NMI_score['score'][0:5]), 0),\n",
    "                          np.array(louvain_NMI_score['score'][5:]))\n",
    "running_time1 = np.append(np.append(np.array(running_time[0:5]), 0),\n",
    "                          np.array(running_time[5:]))\n",
    "Peaks_number1 = np.append(np.append(np.array(Peaks_number[0:5]), 0),\n",
    "                          np.array(Peaks_number[5:]))"
   ]
  },
  {
   "cell_type": "code",
   "execution_count": null,
   "id": "1a639eb3",
   "metadata": {},
   "outputs": [],
   "source": [
    "sns.set_style(\"whitegrid\")\n",
    "plt.figure(figsize=(6, 3.5))\n",
    "plt.bar(x=x, height=y_louvain_ARI,\n",
    "        label='louvain_ARI',\n",
    "        color=sns.cubehelix_palette(8, start=.5, rot=-.75)[3])\n",
    "plt.bar(x=x, height=y_louvain_NMI,\n",
    "        bottom=y_louvain_ARI,\n",
    "        label='louvain_NMI',\n",
    "        color=sns.cubehelix_palette(8, start=.5, rot=-.75)[5])\n",
    "plt.legend(bbox_to_anchor=(0.35, 1.01), loc=0, borderaxespad=0)\n",
    "plt.ylabel('score')\n",
    "plt.subplots_adjust(right=0.77)\n",
    "plt.savefig('./Results/' + data_type + '_Score.svg', bbox_inches='tight')\n",
    "plt.show()"
   ]
  },
  {
   "cell_type": "code",
   "execution_count": null,
   "id": "ffa737f0",
   "metadata": {},
   "outputs": [],
   "source": [
    "if data_type == 'blood2k':\n",
    "    s = 2*running_time1\n",
    "    y_lim = 500\n",
    "elif data_type == 'Sox10KD':\n",
    "    s = 6*running_time1\n",
    "    y_lim = 100\n",
    "\n",
    "fig1, ax = plt.subplots(figsize=(5.5, 2.5))\n",
    "sns.scatterplot(x=x, y=running_time1,\n",
    "                palette='rocket', s=s,\n",
    "                hue=running_time1, ax=ax)\n",
    "plt.ylabel('Running time (s)')\n",
    "plt.ylim([0, y_lim])\n",
    "ax.get_legend().set_visible(False)\n",
    "plt.savefig('./Results/' + data_type + '_time.svg', bbox_inches='tight')\n",
    "plt.show()"
   ]
  },
  {
   "cell_type": "code",
   "execution_count": null,
   "id": "129bdc33",
   "metadata": {},
   "outputs": [],
   "source": [
    "if data_type == 'blood2k':\n",
    "    y_lim = 120000\n",
    "elif data_type == 'Sox10KD':\n",
    "    y_lim = 60000\n",
    "    \n",
    "fig2, ax = plt.subplots(figsize=(5.5, 2.5))\n",
    "sns.scatterplot(x=x, y=Peaks_number1,\n",
    "                palette='rocket', s=0.9*Peaks_number1/100,\n",
    "                hue=Peaks_number1, ax=ax)\n",
    "plt.ylabel('Peaks number')\n",
    "plt.ylim([0, y_lim])\n",
    "plt.subplots_adjust(left=0.15)\n",
    "ax.get_legend().set_visible(False)\n",
    "plt.savefig('./Results/' + data_type + '_peaksnum.svg', bbox_inches='tight')\n",
    "plt.show()"
   ]
  },
  {
   "cell_type": "code",
   "execution_count": null,
   "id": "0d169cd7",
   "metadata": {},
   "outputs": [],
   "source": []
  },
  {
   "cell_type": "code",
   "execution_count": null,
   "id": "91450981",
   "metadata": {},
   "outputs": [],
   "source": []
  }
 ],
 "metadata": {
  "kernelspec": {
   "display_name": "scarp1",
   "language": "python",
   "name": "scarp1"
  },
  "language_info": {
   "codemirror_mode": {
    "name": "ipython",
    "version": 3
   },
   "file_extension": ".py",
   "mimetype": "text/x-python",
   "name": "python",
   "nbconvert_exporter": "python",
   "pygments_lexer": "ipython3",
   "version": "3.8.13"
  }
 },
 "nbformat": 4,
 "nbformat_minor": 5
}
