{
 "cells": [
  {
   "cell_type": "markdown",
   "id": "d4ff2306",
   "metadata": {},
   "source": [
    "## Run SCARP to get cell and peak embedding of 10X-pbmc-ATAC data"
   ]
  },
  {
   "cell_type": "code",
   "execution_count": 1,
   "id": "d41e4940",
   "metadata": {},
   "outputs": [],
   "source": [
    "import sys\n",
    "sys.path.append('../Scarp/')\n",
    "\n",
    "from downstream import *\n",
    "import warnings\n",
    "warnings.filterwarnings(\"ignore\")"
   ]
  },
  {
   "cell_type": "code",
   "execution_count": 2,
   "id": "80c4c3e6",
   "metadata": {},
   "outputs": [],
   "source": [
    "np.random.seed(1)\n",
    "random_state = 1\n",
    "beta = 5000\n",
    "m = 1.5\n",
    "merge_thre = 3000"
   ]
  },
  {
   "cell_type": "code",
   "execution_count": 3,
   "id": "4d35a785",
   "metadata": {},
   "outputs": [],
   "source": [
    "# data_type = '10X_pbmc_ATAC'\n",
    "data_type = '10X_pbmc_ATAC_celltype_filtered'"
   ]
  },
  {
   "cell_type": "code",
   "execution_count": 5,
   "id": "752f50c2",
   "metadata": {},
   "outputs": [],
   "source": [
    "data = sc.read_h5ad('./Processed data/' + data_type + '.h5ad')\n",
    "sc.pp.filter_genes(data, min_cells=1)"
   ]
  },
  {
   "cell_type": "code",
   "execution_count": 6,
   "id": "d6c7a82a",
   "metadata": {},
   "outputs": [
    {
     "name": "stdout",
     "output_type": "stream",
     "text": [
      "Number of Peaks: 105948\n",
      "Number of Cells: 8794\n",
      "Number of labels:  10\n"
     ]
    }
   ],
   "source": [
    "Cells = data.obs.index\n",
    "Peaks = data.var.index\n",
    "Cells_num, Peaks_num = data.X.shape\n",
    "N = Cells_num + Peaks_num\n",
    "labels = data.obs['celltype'].astype('category')\n",
    "cluster_num = np.unique(labels).shape[0]\n",
    "print('Number of Peaks:', Peaks_num)\n",
    "print('Number of Cells:', Cells_num)\n",
    "print('Number of labels: ', cluster_num)"
   ]
  },
  {
   "cell_type": "code",
   "execution_count": 7,
   "id": "d85e83d5",
   "metadata": {},
   "outputs": [
    {
     "name": "stdout",
     "output_type": "stream",
     "text": [
      "\n",
      "%%%%%%%%%%%%%%%%%%%%%%%%%% Diffusion Started (without parallel computing)%%%%%%%%%%%%%%%%%%%%%%%%%%%%\n",
      "       ====================== Chr1: 10316 Peaks ========================\n",
      "       ====================== Chr2: 8356 Peaks ========================\n",
      "       ====================== Chr3: 6644 Peaks ========================\n",
      "       ====================== Chr4: 4178 Peaks ========================\n",
      "       ====================== Chr5: 5234 Peaks ========================\n",
      "       ====================== Chr6: 6513 Peaks ========================\n",
      "       ====================== Chr7: 5162 Peaks ========================\n",
      "       ====================== Chr8: 4320 Peaks ========================\n",
      "       ====================== Chr9: 4305 Peaks ========================\n",
      "       ====================== Chr10: 4880 Peaks ========================\n",
      "       ====================== Chr11: 5134 Peaks ========================\n",
      "       ====================== Chr12~13: 7911 Peaks ========================\n",
      "       ====================== Chr14: 3638 Peaks ========================\n",
      "       ====================== Chr15: 3437 Peaks ========================\n",
      "       ====================== Chr16: 3934 Peaks ========================\n",
      "       ====================== Chr17~18: 7591 Peaks ========================\n",
      "       ====================== Chr19: 4746 Peaks ========================\n",
      "       ====================== Chr20~21: 4428 Peaks ========================\n",
      "       ====================== Chr22~24: 5221 Peaks ========================\n",
      "%%%%%%%%%%%%%%%%%%%%%%%%%%%%% Diffusion Finished %%%%%%%%%%%%%%%%%%%%%%%%%%%%%%%\n",
      "\n",
      "Running time: 2153.0357253551483s\n",
      "\n",
      "Matrix Splicing...........\n",
      "Splicing time: 103.79186606407166s\n"
     ]
    }
   ],
   "source": [
    "t, diffusion_mat = SCARP(data=data,\n",
    "                         m=m,\n",
    "                         merge_thre=merge_thre,\n",
    "                         beta=beta,\n",
    "                         peak_loc=True)"
   ]
  },
  {
   "cell_type": "code",
   "execution_count": 8,
   "id": "9d81ec2c",
   "metadata": {},
   "outputs": [],
   "source": [
    "cell_embedding = SCARP_cell_embedding(diffusion_mat=diffusion_mat,\n",
    "                                      kept_comp=20)\n",
    "\n",
    "Cells_df = pd.DataFrame(cell_embedding,\n",
    "                        index=Cells,\n",
    "                        columns=['feature' + str(i + 1) for i in range(cell_embedding.shape[1])])\n",
    "Cells_df.to_csv('./Results/' + data_type + '_SCARP_Cells_feature.csv')"
   ]
  },
  {
   "cell_type": "code",
   "execution_count": 9,
   "id": "69c0d7c5",
   "metadata": {},
   "outputs": [],
   "source": [
    "adata_cell = sc.AnnData(Cells_df)\n",
    "adata_cell.var_names_make_unique()\n",
    "adata_cell.obs['label'] = labels"
   ]
  },
  {
   "cell_type": "code",
   "execution_count": null,
   "id": "0d3e61c4",
   "metadata": {},
   "outputs": [],
   "source": [
    "sc.pp.neighbors(adata_cell, use_rep='X', random_state=random_state)\n",
    "sc.tl.umap(adata_cell, random_state=random_state)"
   ]
  },
  {
   "cell_type": "code",
   "execution_count": 15,
   "id": "dba16d05",
   "metadata": {},
   "outputs": [
    {
     "name": "stdout",
     "output_type": "stream",
     "text": [
      "WARNING: saving figure to file figures\\umap10X_pbmc_ATAC_celltype_filteredlabel.svg\n"
     ]
    },
    {
     "data": {
      "image/png": "[encoded data removed]",
      "text/plain": [
       "<Figure size 288x288 with 1 Axes>"
      ]
     },
     "metadata": {},
     "output_type": "display_data"
    },
    {
     "data": {
      "text/plain": [
       "<Figure size 432x288 with 0 Axes>"
      ]
     },
     "metadata": {},
     "output_type": "display_data"
    }
   ],
   "source": [
    "fig1, ax = plt.subplots(figsize=(4, 4))\n",
    "sc.pl.umap(adata_cell, color='label', title='SCARP', s=20, ax=ax, save=data_type + 'label.svg')\n",
    "plt.subplots_adjust(right=0.55)"
   ]
  },
  {
   "cell_type": "code",
   "execution_count": 14,
   "id": "34d1274a",
   "metadata": {},
   "outputs": [],
   "source": [
    "peaks_embedding = SCARP_cell_embedding(diffusion_mat[:, Cells_num:].T, 20)\n",
    "Peaks_df = pd.DataFrame(peaks_embedding,\n",
    "                        index=Peaks,\n",
    "                        columns=['feature' + str(i + 1) for i in range(peaks_embedding.shape[1])])\n",
    "Peaks_df.to_csv('./Results/' + data_type + '_SCARP_Peaks_feature.csv')"
   ]
  }
 ],
 "metadata": {
  "kernelspec": {
   "display_name": "scarp1",
   "language": "python",
   "name": "scarp1"
  },
  "language_info": {
   "codemirror_mode": {
    "name": "ipython",
    "version": 3
   },
   "file_extension": ".py",
   "mimetype": "text/x-python",
   "name": "python",
   "nbconvert_exporter": "python",
   "pygments_lexer": "ipython3",
   "version": "3.8.13"
  }
 },
 "nbformat": 4,
 "nbformat_minor": 5
}
