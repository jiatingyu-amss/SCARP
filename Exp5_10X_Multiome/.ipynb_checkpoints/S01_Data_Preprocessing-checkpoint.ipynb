{
 "cells": [
  {
   "cell_type": "markdown",
   "id": "2b94f7f2",
   "metadata": {},
   "source": [
    "# 10X Multiome dataset: Dataset preprocessing\n",
    "|  | #cells | #genes | #peaks| #cell types|\n",
    "| --- | --- | --- | --- | --- |\n",
    "| Raw data | 11909 | 36601 |108377|NAN|\n",
    "| Preprocessed data | 10412 | 21618 |105949|19|"
   ]
  },
  {
   "cell_type": "code",
   "execution_count": 1,
   "id": "cca1da1a",
   "metadata": {},
   "outputs": [],
   "source": [
    "from help_func import *"
   ]
  },
  {
   "cell_type": "code",
   "execution_count": 2,
   "id": "5a073e90",
   "metadata": {},
   "outputs": [
    {
     "name": "stderr",
     "output_type": "stream",
     "text": [
      "D:\\Users\\jtyu\\software\\Anaconda\\envs\\scarp1\\lib\\site-packages\\anndata\\_core\\anndata.py:1830: UserWarning: Variable names are not unique. To make them unique, call `.var_names_make_unique`.\n",
      "  utils.warn_names_duplicates(\"var\")\n"
     ]
    },
    {
     "data": {
      "text/plain": [
       "AnnData object with n_obs × n_vars = 11909 × 144978\n",
       "    var: 'gene_ids', 'feature_types', 'genome'"
      ]
     },
     "execution_count": 2,
     "metadata": {},
     "output_type": "execute_result"
    }
   ],
   "source": [
    "data = sc.read_10x_h5('./Raw data/pbmc_granulocyte_sorted_10k_filtered_feature_bc_matrix.h5', gex_only=False)\n",
    "data"
   ]
  },
  {
   "cell_type": "markdown",
   "id": "1d8f26d0",
   "metadata": {},
   "source": [
    "have both Gene Expression and Peak features"
   ]
  },
  {
   "cell_type": "code",
   "execution_count": 3,
   "id": "01365b62",
   "metadata": {},
   "outputs": [
    {
     "data": {
      "text/plain": [
       "array(['Gene Expression', 'Peaks'], dtype=object)"
      ]
     },
     "execution_count": 3,
     "metadata": {},
     "output_type": "execute_result"
    }
   ],
   "source": [
    "data.var['feature_types'].unique()"
   ]
  },
  {
   "cell_type": "markdown",
   "id": "bfc5e06f",
   "metadata": {},
   "source": [
    "filter scATAC data"
   ]
  },
  {
   "cell_type": "code",
   "execution_count": 4,
   "id": "23887309",
   "metadata": {},
   "outputs": [
    {
     "data": {
      "text/plain": [
       "AnnData object with n_obs × n_vars = 11909 × 108344\n",
       "    var: 'gene_ids', 'feature_types', 'genome'"
      ]
     },
     "execution_count": 4,
     "metadata": {},
     "output_type": "execute_result"
    }
   ],
   "source": [
    "keep_peaks = data.var[data.var['feature_types']=='Peaks']\n",
    "keep_peaks = keep_peaks[['chr' in keep_peaks['gene_ids'].iloc[i] for i in range(keep_peaks.shape[0])]]\n",
    "ATAC_data = filter_peaks(data, keep_peaks.index)\n",
    "ATAC_data"
   ]
  },
  {
   "cell_type": "markdown",
   "id": "03ca8bf3",
   "metadata": {},
   "source": [
    "filter scRNA data"
   ]
  },
  {
   "cell_type": "code",
   "execution_count": 5,
   "id": "f2b4ff39",
   "metadata": {},
   "outputs": [
    {
     "data": {
      "text/plain": [
       "AnnData object with n_obs × n_vars = 11909 × 36621\n",
       "    var: 'gene_ids', 'feature_types', 'genome'"
      ]
     },
     "execution_count": 5,
     "metadata": {},
     "output_type": "execute_result"
    }
   ],
   "source": [
    "keep_genes = data.var[data.var['feature_types']=='Gene Expression']\n",
    "RNA_data = filter_peaks(data, keep_genes.index)\n",
    "RNA_data"
   ]
  },
  {
   "cell_type": "markdown",
   "id": "ae455647",
   "metadata": {},
   "source": [
    "#### adding annotation information of peaks，including mapping gene"
   ]
  },
  {
   "cell_type": "code",
   "execution_count": 6,
   "id": "51a56c7c",
   "metadata": {
    "scrolled": true
   },
   "outputs": [
    {
     "data": {
      "text/html": [
       "<div>\n",
       "<style scoped>\n",
       "    .dataframe tbody tr th:only-of-type {\n",
       "        vertical-align: middle;\n",
       "    }\n",
       "\n",
       "    .dataframe tbody tr th {\n",
       "        vertical-align: top;\n",
       "    }\n",
       "\n",
       "    .dataframe thead th {\n",
       "        text-align: right;\n",
       "    }\n",
       "</style>\n",
       "<table border=\"1\" class=\"dataframe\">\n",
       "  <thead>\n",
       "    <tr style=\"text-align: right;\">\n",
       "      <th></th>\n",
       "      <th>peak</th>\n",
       "      <th>gene</th>\n",
       "      <th>distance</th>\n",
       "      <th>peak_type</th>\n",
       "    </tr>\n",
       "  </thead>\n",
       "  <tbody>\n",
       "    <tr>\n",
       "      <th>chr1:10109-10357</th>\n",
       "      <td>chr1:10109-10357</td>\n",
       "      <td>MIR1302-2HG</td>\n",
       "      <td>-19197</td>\n",
       "      <td>distal</td>\n",
       "    </tr>\n",
       "    <tr>\n",
       "      <th>chr1:180730-181630</th>\n",
       "      <td>chr1:180730-181630</td>\n",
       "      <td>AL627309.5</td>\n",
       "      <td>-6869</td>\n",
       "      <td>distal</td>\n",
       "    </tr>\n",
       "    <tr>\n",
       "      <th>chr1:191491-191736</th>\n",
       "      <td>chr1:191491-191736</td>\n",
       "      <td>AL627309.5</td>\n",
       "      <td>-17630</td>\n",
       "      <td>distal</td>\n",
       "    </tr>\n",
       "    <tr>\n",
       "      <th>chr1:267816-268196</th>\n",
       "      <td>chr1:267816-268196</td>\n",
       "      <td>AP006222.2</td>\n",
       "      <td>962</td>\n",
       "      <td>distal</td>\n",
       "    </tr>\n",
       "    <tr>\n",
       "      <th>chr1:586028-586373</th>\n",
       "      <td>chr1:586028-586373</td>\n",
       "      <td>AC114498.1</td>\n",
       "      <td>-1256</td>\n",
       "      <td>distal</td>\n",
       "    </tr>\n",
       "  </tbody>\n",
       "</table>\n",
       "</div>"
      ],
      "text/plain": [
       "                                  peak         gene distance peak_type\n",
       "chr1:10109-10357      chr1:10109-10357  MIR1302-2HG   -19197    distal\n",
       "chr1:180730-181630  chr1:180730-181630   AL627309.5    -6869    distal\n",
       "chr1:191491-191736  chr1:191491-191736   AL627309.5   -17630    distal\n",
       "chr1:267816-268196  chr1:267816-268196   AP006222.2      962    distal\n",
       "chr1:586028-586373  chr1:586028-586373   AC114498.1    -1256    distal"
      ]
     },
     "execution_count": 6,
     "metadata": {},
     "output_type": "execute_result"
    }
   ],
   "source": [
    "atac_peak_annotation = pd.read_table('./Raw data/pbmc_granulocyte_sorted_10k_atac_peak_annotation.tsv', sep='\\t')\n",
    "atac_peak_annotation = atac_peak_annotation[['chr' in atac_peak_annotation['peak'].iloc[i] for i in range(atac_peak_annotation.shape[0])]]\n",
    "peaks_rename = []\n",
    "for i in range(atac_peak_annotation.shape[0]):\n",
    "    str_temp = re.split('_', atac_peak_annotation['peak'].iloc[i])\n",
    "    peaks_rename.append(str_temp[0] + ':' + str_temp[1] + '-'+str_temp[2])\n",
    "atac_peak_annotation['peak'] = peaks_rename\n",
    "atac_peak_annotation.index = list(atac_peak_annotation['peak'])\n",
    "atac_peak_annotation.head()"
   ]
  },
  {
   "cell_type": "code",
   "execution_count": 7,
   "id": "c69a37c0",
   "metadata": {},
   "outputs": [
    {
     "data": {
      "text/html": [
       "<div>\n",
       "<style scoped>\n",
       "    .dataframe tbody tr th:only-of-type {\n",
       "        vertical-align: middle;\n",
       "    }\n",
       "\n",
       "    .dataframe tbody tr th {\n",
       "        vertical-align: top;\n",
       "    }\n",
       "\n",
       "    .dataframe thead th {\n",
       "        text-align: right;\n",
       "    }\n",
       "</style>\n",
       "<table border=\"1\" class=\"dataframe\">\n",
       "  <thead>\n",
       "    <tr style=\"text-align: right;\">\n",
       "      <th></th>\n",
       "      <th>peak</th>\n",
       "      <th>gene</th>\n",
       "      <th>distance</th>\n",
       "      <th>peak_type</th>\n",
       "      <th>chr</th>\n",
       "      <th>from</th>\n",
       "      <th>to</th>\n",
       "    </tr>\n",
       "  </thead>\n",
       "  <tbody>\n",
       "    <tr>\n",
       "      <th>chr1:10109-10357</th>\n",
       "      <td>chr1:10109-10357</td>\n",
       "      <td>MIR1302-2HG</td>\n",
       "      <td>-19197</td>\n",
       "      <td>distal</td>\n",
       "      <td>chr1</td>\n",
       "      <td>10109</td>\n",
       "      <td>10357</td>\n",
       "    </tr>\n",
       "    <tr>\n",
       "      <th>chr1:180730-181630</th>\n",
       "      <td>chr1:180730-181630</td>\n",
       "      <td>AL627309.5</td>\n",
       "      <td>-6869</td>\n",
       "      <td>distal</td>\n",
       "      <td>chr1</td>\n",
       "      <td>180730</td>\n",
       "      <td>181630</td>\n",
       "    </tr>\n",
       "    <tr>\n",
       "      <th>chr1:191491-191736</th>\n",
       "      <td>chr1:191491-191736</td>\n",
       "      <td>AL627309.5</td>\n",
       "      <td>-17630</td>\n",
       "      <td>distal</td>\n",
       "      <td>chr1</td>\n",
       "      <td>191491</td>\n",
       "      <td>191736</td>\n",
       "    </tr>\n",
       "    <tr>\n",
       "      <th>chr1:267816-268196</th>\n",
       "      <td>chr1:267816-268196</td>\n",
       "      <td>AP006222.2</td>\n",
       "      <td>962</td>\n",
       "      <td>distal</td>\n",
       "      <td>chr1</td>\n",
       "      <td>267816</td>\n",
       "      <td>268196</td>\n",
       "    </tr>\n",
       "    <tr>\n",
       "      <th>chr1:586028-586373</th>\n",
       "      <td>chr1:586028-586373</td>\n",
       "      <td>AC114498.1</td>\n",
       "      <td>-1256</td>\n",
       "      <td>distal</td>\n",
       "      <td>chr1</td>\n",
       "      <td>586028</td>\n",
       "      <td>586373</td>\n",
       "    </tr>\n",
       "  </tbody>\n",
       "</table>\n",
       "</div>"
      ],
      "text/plain": [
       "                                  peak         gene distance peak_type   chr  \\\n",
       "chr1:10109-10357      chr1:10109-10357  MIR1302-2HG   -19197    distal  chr1   \n",
       "chr1:180730-181630  chr1:180730-181630   AL627309.5    -6869    distal  chr1   \n",
       "chr1:191491-191736  chr1:191491-191736   AL627309.5   -17630    distal  chr1   \n",
       "chr1:267816-268196  chr1:267816-268196   AP006222.2      962    distal  chr1   \n",
       "chr1:586028-586373  chr1:586028-586373   AC114498.1    -1256    distal  chr1   \n",
       "\n",
       "                      from      to  \n",
       "chr1:10109-10357     10109   10357  \n",
       "chr1:180730-181630  180730  181630  \n",
       "chr1:191491-191736  191491  191736  \n",
       "chr1:267816-268196  267816  268196  \n",
       "chr1:586028-586373  586028  586373  "
      ]
     },
     "execution_count": 7,
     "metadata": {},
     "output_type": "execute_result"
    }
   ],
   "source": [
    "atac_peak_annotation = atac_peak_annotation.join(\n",
    "    pd.DataFrame([re.split(r'[:,-]', atac_peak_annotation['peak'].iloc[i]) \n",
    "                  for i in range(atac_peak_annotation.shape[0])],\n",
    "                 columns=['chr', 'from', 'to'],\n",
    "                 index=atac_peak_annotation.index))\n",
    "atac_peak_annotation.head()"
   ]
  },
  {
   "cell_type": "code",
   "execution_count": 8,
   "id": "2902c9c5",
   "metadata": {},
   "outputs": [
    {
     "data": {
      "text/plain": [
       "AnnData object with n_obs × n_vars = 11909 × 108344\n",
       "    var: 'peak', 'gene', 'distance', 'peak_type', 'chr', 'from', 'to'"
      ]
     },
     "execution_count": 8,
     "metadata": {},
     "output_type": "execute_result"
    }
   ],
   "source": [
    "ATAC_data.var = atac_peak_annotation.loc[ATAC_data.var['gene_ids']]\n",
    "ATAC_data"
   ]
  },
  {
   "cell_type": "markdown",
   "id": "64c81886",
   "metadata": {},
   "source": [
    "#### adding annotation information of cells，including cell type"
   ]
  },
  {
   "cell_type": "code",
   "execution_count": 9,
   "id": "4353f286",
   "metadata": {
    "scrolled": true
   },
   "outputs": [
    {
     "data": {
      "text/html": [
       "<div>\n",
       "<style scoped>\n",
       "    .dataframe tbody tr th:only-of-type {\n",
       "        vertical-align: middle;\n",
       "    }\n",
       "\n",
       "    .dataframe tbody tr th {\n",
       "        vertical-align: top;\n",
       "    }\n",
       "\n",
       "    .dataframe thead th {\n",
       "        text-align: right;\n",
       "    }\n",
       "</style>\n",
       "<table border=\"1\" class=\"dataframe\">\n",
       "  <thead>\n",
       "    <tr style=\"text-align: right;\">\n",
       "      <th></th>\n",
       "      <th>orig.ident</th>\n",
       "      <th>nCount_RNA</th>\n",
       "      <th>nFeature_RNA</th>\n",
       "      <th>percent.mt</th>\n",
       "      <th>nCount_ATAC</th>\n",
       "      <th>nFeature_ATAC</th>\n",
       "      <th>nCount_SCT</th>\n",
       "      <th>nFeature_SCT</th>\n",
       "      <th>SCT.weight</th>\n",
       "      <th>ATAC.weight</th>\n",
       "      <th>wsnn_res.0.8</th>\n",
       "      <th>seurat_clusters</th>\n",
       "      <th>sub.cluster</th>\n",
       "      <th>celltype</th>\n",
       "    </tr>\n",
       "  </thead>\n",
       "  <tbody>\n",
       "    <tr>\n",
       "      <th>AAACAGCCAAGGAATC-1</th>\n",
       "      <td>SeuratProject</td>\n",
       "      <td>8380</td>\n",
       "      <td>3308</td>\n",
       "      <td>7.470167</td>\n",
       "      <td>55550</td>\n",
       "      <td>13867</td>\n",
       "      <td>4780</td>\n",
       "      <td>2754</td>\n",
       "      <td>0.438258</td>\n",
       "      <td>0.561742</td>\n",
       "      <td>1</td>\n",
       "      <td>1</td>\n",
       "      <td>1</td>\n",
       "      <td>CD4 Naive</td>\n",
       "    </tr>\n",
       "    <tr>\n",
       "      <th>AAACAGCCAATCCCTT-1</th>\n",
       "      <td>SeuratProject</td>\n",
       "      <td>3771</td>\n",
       "      <td>1896</td>\n",
       "      <td>10.527711</td>\n",
       "      <td>20485</td>\n",
       "      <td>7247</td>\n",
       "      <td>3781</td>\n",
       "      <td>1895</td>\n",
       "      <td>0.506867</td>\n",
       "      <td>0.493133</td>\n",
       "      <td>4</td>\n",
       "      <td>4</td>\n",
       "      <td>4</td>\n",
       "      <td>CD4 TCM</td>\n",
       "    </tr>\n",
       "  </tbody>\n",
       "</table>\n",
       "</div>"
      ],
      "text/plain": [
       "                       orig.ident  nCount_RNA  nFeature_RNA  percent.mt  \\\n",
       "AAACAGCCAAGGAATC-1  SeuratProject        8380          3308    7.470167   \n",
       "AAACAGCCAATCCCTT-1  SeuratProject        3771          1896   10.527711   \n",
       "\n",
       "                    nCount_ATAC  nFeature_ATAC  nCount_SCT  nFeature_SCT  \\\n",
       "AAACAGCCAAGGAATC-1        55550          13867        4780          2754   \n",
       "AAACAGCCAATCCCTT-1        20485           7247        3781          1895   \n",
       "\n",
       "                    SCT.weight  ATAC.weight  wsnn_res.0.8  seurat_clusters  \\\n",
       "AAACAGCCAAGGAATC-1    0.438258     0.561742             1                1   \n",
       "AAACAGCCAATCCCTT-1    0.506867     0.493133             4                4   \n",
       "\n",
       "                   sub.cluster   celltype  \n",
       "AAACAGCCAAGGAATC-1           1  CD4 Naive  \n",
       "AAACAGCCAATCCCTT-1           4    CD4 TCM  "
      ]
     },
     "execution_count": 9,
     "metadata": {},
     "output_type": "execute_result"
    }
   ],
   "source": [
    "cell_clust = pd.read_csv('./Raw data/wnn_meta_data.csv', index_col=0)\n",
    "cell_clust.head(2)"
   ]
  },
  {
   "cell_type": "markdown",
   "id": "aa5a0377",
   "metadata": {},
   "source": [
    "adding to scATAC data"
   ]
  },
  {
   "cell_type": "code",
   "execution_count": 10,
   "id": "d03d24ef",
   "metadata": {},
   "outputs": [
    {
     "data": {
      "text/plain": [
       "AnnData object with n_obs × n_vars = 10412 × 108344\n",
       "    obs: 'celltype'\n",
       "    var: 'peak', 'gene', 'distance', 'peak_type', 'chr', 'from', 'to'"
      ]
     },
     "execution_count": 10,
     "metadata": {},
     "output_type": "execute_result"
    }
   ],
   "source": [
    "ATAC_data = filter_cells(ATAC_data, cell_clust.index)\n",
    "ATAC_data.obs['celltype'] = cell_clust.loc[ATAC_data.obs.index]['celltype']\n",
    "ATAC_data"
   ]
  },
  {
   "cell_type": "markdown",
   "id": "ea4e2fca",
   "metadata": {},
   "source": [
    "adding to scRNA data"
   ]
  },
  {
   "cell_type": "code",
   "execution_count": 11,
   "id": "27055a56",
   "metadata": {},
   "outputs": [
    {
     "name": "stderr",
     "output_type": "stream",
     "text": [
      "D:\\Users\\jtyu\\software\\Anaconda\\envs\\scarp1\\lib\\site-packages\\anndata\\_core\\anndata.py:1830: UserWarning: Variable names are not unique. To make them unique, call `.var_names_make_unique`.\n",
      "  utils.warn_names_duplicates(\"var\")\n"
     ]
    },
    {
     "data": {
      "text/plain": [
       "AnnData object with n_obs × n_vars = 10412 × 36621\n",
       "    obs: 'celltype'\n",
       "    var: 'gene_ids', 'feature_types', 'genome'"
      ]
     },
     "execution_count": 11,
     "metadata": {},
     "output_type": "execute_result"
    }
   ],
   "source": [
    "RNA_data = filter_cells(RNA_data, cell_clust.index)\n",
    "RNA_data.obs['celltype'] = cell_clust.loc[RNA_data.obs.index]['celltype']\n",
    "RNA_data"
   ]
  },
  {
   "cell_type": "markdown",
   "id": "c9805ab1",
   "metadata": {},
   "source": [
    "#### save data"
   ]
  },
  {
   "cell_type": "code",
   "execution_count": 12,
   "id": "bdb5f937",
   "metadata": {},
   "outputs": [
    {
     "data": {
      "text/plain": [
       "AnnData object with n_obs × n_vars = 10412 × 21618\n",
       "    obs: 'celltype', 'n_genes'\n",
       "    var: 'gene_ids', 'feature_types', 'genome', 'n_cells'"
      ]
     },
     "execution_count": 12,
     "metadata": {},
     "output_type": "execute_result"
    }
   ],
   "source": [
    "sc.pp.filter_genes(RNA_data, min_cells=10)\n",
    "sc.pp.filter_cells(RNA_data, min_genes=1)\n",
    "RNA_data"
   ]
  },
  {
   "cell_type": "code",
   "execution_count": 13,
   "id": "47f56134",
   "metadata": {},
   "outputs": [
    {
     "data": {
      "text/plain": [
       "AnnData object with n_obs × n_vars = 10412 × 105949\n",
       "    obs: 'celltype', 'n_genes'\n",
       "    var: 'peak', 'gene', 'distance', 'peak_type', 'chr', 'from', 'to', 'n_cells'"
      ]
     },
     "execution_count": 13,
     "metadata": {},
     "output_type": "execute_result"
    }
   ],
   "source": [
    "sc.pp.filter_genes(ATAC_data, min_cells=10)\n",
    "sc.pp.filter_cells(ATAC_data, min_genes=1)\n",
    "ATAC_data"
   ]
  },
  {
   "cell_type": "code",
   "execution_count": 14,
   "id": "fea7c3bd",
   "metadata": {},
   "outputs": [],
   "source": [
    "RNA_data.write('./Processed data/10X_pbmc_RNA.h5ad')\n",
    "ATAC_data.write('./Processed data/10X_pbmc_ATAC.h5ad')"
   ]
  },
  {
   "cell_type": "markdown",
   "id": "86561fbf",
   "metadata": {},
   "source": [
    "#### filtering cell types included T cells, B cells and monocytes to comparing with PCHIC data"
   ]
  },
  {
   "cell_type": "code",
   "execution_count": 15,
   "id": "6b07252d",
   "metadata": {},
   "outputs": [],
   "source": [
    "keep_celltype = ['CD4 Naive', 'CD4 TCM', 'CD8 Naive', 'CD16 Mono', 'CD14 Mono', 'CD8 TEM_1', 'Naive B', 'CD4 TEM', 'Memory B', 'CD8 TEM_2']\n",
    "keep_cell = ATAC_data.obs[ATAC_data.obs['celltype'].isin(keep_celltype)].index\n",
    "ATAC_data_for_pchic = filter_cells(ATAC_data, keep_cell)"
   ]
  },
  {
   "cell_type": "code",
   "execution_count": 16,
   "id": "a3cd2146",
   "metadata": {},
   "outputs": [
    {
     "data": {
      "text/plain": [
       "AnnData object with n_obs × n_vars = 8794 × 105948\n",
       "    obs: 'celltype', 'n_genes'\n",
       "    var: 'peak', 'gene', 'distance', 'peak_type', 'chr', 'from', 'to', 'n_cells'"
      ]
     },
     "execution_count": 16,
     "metadata": {},
     "output_type": "execute_result"
    }
   ],
   "source": [
    "sc.pp.filter_cells(ATAC_data_for_pchic, min_genes=10)\n",
    "sc.pp.filter_genes(ATAC_data_for_pchic, min_cells=1)\n",
    "ATAC_data_for_pchic"
   ]
  },
  {
   "cell_type": "code",
   "execution_count": 17,
   "id": "e0c8ce45",
   "metadata": {},
   "outputs": [],
   "source": [
    "ATAC_data_for_pchic.write('./Processed data/10X_pbmc_ATAC_celltype_filtered.h5ad')"
   ]
  }
 ],
 "metadata": {
  "kernelspec": {
   "display_name": "scarp1",
   "language": "python",
   "name": "scarp1"
  },
  "language_info": {
   "codemirror_mode": {
    "name": "ipython",
    "version": 3
   },
   "file_extension": ".py",
   "mimetype": "text/x-python",
   "name": "python",
   "nbconvert_exporter": "python",
   "pygments_lexer": "ipython3",
   "version": "3.8.13"
  }
 },
 "nbformat": 4,
 "nbformat_minor": 5
}
