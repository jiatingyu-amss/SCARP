{
 "cells": [
  {
   "cell_type": "code",
   "execution_count": null,
   "id": "9869bb68",
   "metadata": {},
   "outputs": [],
   "source": [
    "from Utils.help_func import *\n",
    "import warnings\n",
    "import heapq\n",
    "\n",
    "warnings.filterwarnings(\"ignore\")"
   ]
  },
  {
   "cell_type": "code",
   "execution_count": null,
   "id": "ff514b5e",
   "metadata": {},
   "outputs": [],
   "source": [
    "data = sc.read_h5ad('./Processed Data/' + data_name + '.h5ad'"
   ]
  },
  {
   "cell_type": "code",
   "execution_count": null,
   "id": "2435604e",
   "metadata": {},
   "outputs": [],
   "source": [
    "peak_embedding = pd.read_csv('./Results/SOX10_SCARP_Peaks_feature.csv', index_col=0)"
   ]
  },
  {
   "cell_type": "markdown",
   "id": "a1415151",
   "metadata": {},
   "source": [
    "####  filter peaks co-accessible with the promoter of SOX10"
   ]
  },
  {
   "cell_type": "code",
   "execution_count": null,
   "id": "92b60898",
   "metadata": {},
   "outputs": [],
   "source": [
    "SOX10_corr_promoter = [np.corrcoef(peak_mat.iloc[np.where(data.var.index == 'chr22:38380499-38380726')[0][0], :],\n",
    "                                   peak_mat.iloc[i, :])[0, 1] for i in range(peak_mat.shape[0])]\n",
    "SOX10_promoter_index = heapq.nlargest(10, range(len(SOX10_corr_promoter)), SOX10_corr_promoter.__getitem__)\n",
    "diff_access_sites_promoter = peak_mat.iloc[SOX10_promoter_index, :].index"
   ]
  },
  {
   "cell_type": "markdown",
   "id": "eafb81a9",
   "metadata": {},
   "source": [
    "#### filter peaks co-accessible with the 3'UTR of SOX10"
   ]
  },
  {
   "cell_type": "code",
   "execution_count": null,
   "id": "5c0bd623",
   "metadata": {},
   "outputs": [],
   "source": [
    "SOX10_corr_3UTR = [np.corrcoef(peak_mat.iloc[np.where(data.var.index == 'chr22:38364975-38365257')[0][0], :],\n",
    "                               peak_mat.iloc[i, :])[0, 1] for i in range(peak_mat.shape[0])]\n",
    "SOX10_3UTR_index = heapq.nlargest(10, range(len(SOX10_corr_3UTR)), SOX10_corr_3UTR.__getitem__)\n",
    "diff_access_sites_3UTR = peak_mat.iloc[SOX10_3UTR_index, :].index"
   ]
  },
  {
   "cell_type": "markdown",
   "id": "17623976",
   "metadata": {},
   "source": [
    "#### filter peaks co-accessible with SOX10"
   ]
  },
  {
   "cell_type": "code",
   "execution_count": null,
   "id": "c2201c70",
   "metadata": {},
   "outputs": [],
   "source": [
    "diff_access_sites = np.hstack([np.array(diff_access_sites_promoter),\n",
    "                               np.array(diff_access_sites_3UTR)])"
   ]
  },
  {
   "cell_type": "markdown",
   "id": "a9ff4c63",
   "metadata": {},
   "source": [
    "#### filter peaks co-accessible with SOX10"
   ]
  },
  {
   "cell_type": "code",
   "execution_count": null,
   "id": "5d17fa6a",
   "metadata": {},
   "outputs": [],
   "source": [
    "data.X = (data.X > 0) * 1\n",
    "data_df = pd.DataFrame(np.array(data.X.todense()),\n",
    "                       index=data.obs_names,\n",
    "                       columns=data.var_names)\n",
    "data1_df = data_df[peak_mat.index]"
   ]
  },
  {
   "cell_type": "code",
   "execution_count": null,
   "id": "8bde9e00",
   "metadata": {},
   "outputs": [],
   "source": [
    "data1 = sc.AnnData(data1_df)\n",
    "data1.var_names_make_unique()\n",
    "data1.obs['celltype'] = data.obs['celltype']"
   ]
  },
  {
   "cell_type": "code",
   "execution_count": null,
   "id": "e8bd2576",
   "metadata": {},
   "outputs": [],
   "source": [
    "fig1, ax = plt.subplots(figsize=(10, 5))\n",
    "plt.subplots_adjust(left=0.13, right=0.95, top=1, bottom=0.4)\n",
    "dp = sc.pl.dotplot(data1, {'Loci co-accessible with SOX10(promoter)':\n",
    "                               diff_access_sites[:10],\n",
    "                           'Loci co-accessible with SOX10(3\\'UTR)':\n",
    "                               diff_access_sites[10:]},\n",
    "                   groupby='celltype', var_group_rotation=0,\n",
    "                   colorbar_title='Mean accessibility\\nin group',\n",
    "                   title='Co-accessible loci of SOX10 computed by SCARP peak feature',\n",
    "                   ax=ax)"
   ]
  },
  {
   "cell_type": "code",
   "execution_count": null,
   "id": "7cfa2521",
   "metadata": {},
   "outputs": [],
   "source": [
    "annotation = pd.read_table('../SCARP_R_downstream_analysis/SOX10 data/annotated_genes_Promoter_1000bp.csv',\n",
    "                           sep=',', index_col=0)\n",
    "annotation['peak_name'] = [annotation['seqnames'].iloc[i] + ':' +\n",
    "                           str(annotation['start'].iloc[i] - 1) +\n",
    "                           '-' + str(annotation['end'].iloc[i])\n",
    "                           for i in range(annotation.shape[0])]\n",
    "annotation.index = annotation['peak_name']"
   ]
  },
  {
   "cell_type": "code",
   "execution_count": null,
   "id": "5063ad7f",
   "metadata": {},
   "outputs": [],
   "source": [
    "# =============================================================\n",
    "#               前100个\n",
    "# =========================================================\n",
    "SOX10_promoter_index = heapq.nlargest(100, range(len(SOX10_corr_promoter)), SOX10_corr_promoter.__getitem__)\n",
    "diff_access_sites_promoter = peak_mat.iloc[SOX10_promoter_index, :].index\n",
    "\n",
    "SOX10_3UTR_index = heapq.nlargest(100, range(len(SOX10_corr_3UTR)), SOX10_corr_3UTR.__getitem__)\n",
    "diff_access_sites_3UTR = peak_mat.iloc[SOX10_3UTR_index, :].index\n",
    "\n",
    "# merge\n",
    "diff_access_sites = np.hstack([np.array(diff_access_sites_promoter),\n",
    "                               np.array(diff_access_sites_3UTR)])\n",
    "\n",
    "diff_access_sites_df = pd.DataFrame(np.hstack([np.array(['pos' + str(i) for i in range(100)]),\n",
    "                                               np.array(['neg' + str(i) for i in range(100)])]),\n",
    "                                    index=diff_access_sites)\n",
    "anno_diff = annotation.loc[set(diff_access_sites) & set(annotation.index)]\n",
    "anno_diff['relation'] = diff_access_sites_df.loc[anno_diff.index]\n",
    "anno_diff = anno_diff.sort_values(by='relation')\n",
    "# anno_diff.to_csv('./SCARP_78659_peaks_genes.csv')"
   ]
  }
 ],
 "metadata": {
  "kernelspec": {
   "display_name": "scarp1",
   "language": "python",
   "name": "scarp1"
  },
  "language_info": {
   "codemirror_mode": {
    "name": "ipython",
    "version": 3
   },
   "file_extension": ".py",
   "mimetype": "text/x-python",
   "name": "python",
   "nbconvert_exporter": "python",
   "pygments_lexer": "ipython3",
   "version": "3.8.13"
  }
 },
 "nbformat": 4,
 "nbformat_minor": 5
}
