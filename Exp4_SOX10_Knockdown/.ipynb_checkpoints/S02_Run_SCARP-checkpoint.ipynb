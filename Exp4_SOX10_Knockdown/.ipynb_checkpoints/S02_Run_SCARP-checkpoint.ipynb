{
 "cells": [
  {
   "cell_type": "code",
   "execution_count": null,
   "id": "3f12cc0a",
   "metadata": {},
   "outputs": [],
   "source": [
    "from Utils.help_func import *\n",
    "import warnings\n",
    "import heapq\n",
    "\n",
    "warnings.filterwarnings(\"ignore\")"
   ]
  },
  {
   "cell_type": "code",
   "execution_count": null,
   "id": "2f9f7fc0",
   "metadata": {},
   "outputs": [],
   "source": [
    "data = sc.read_h5ad('./Processed Data/' + data_name + '.h5ad'"
   ]
  },
  {
   "cell_type": "code",
   "execution_count": null,
   "id": "04440769",
   "metadata": {},
   "outputs": [],
   "source": [
    "print('\\n=========== Data information: %s ===========' % data_name)\n",
    "\n",
    "Cells = data.obs.index\n",
    "Cells_num, Peaks_num = data.X.shape\n",
    "N = Cells_num + Peaks_num\n",
    "labels = data.obs['celltype'].astype('category')\n",
    "\n",
    "if data_name == 'GM12878vsHEK' or data_name == 'GM12878vsHL':\n",
    "    cluster_num = 2\n",
    "else:\n",
    "    cluster_num = np.unique(labels).shape[0]"
   ]
  },
  {
   "cell_type": "code",
   "execution_count": null,
   "id": "c5f84f54",
   "metadata": {},
   "outputs": [],
   "source": [
    "peak_mat = pd.read_csv('../SCARP_R_downstream_analysis/SOX10 data/SCARP_peak_feature.csv', index_col=0)"
   ]
  },
  {
   "cell_type": "code",
   "execution_count": null,
   "id": "1c7bc420",
   "metadata": {},
   "outputs": [],
   "source": [
    "# prompter\n",
    "SOX10_corr_promoter = [np.corrcoef(peak_mat.iloc[np.where(data.var.index == 'chr22:38380499-38380726')[0][0], :],\n",
    "                                   peak_mat.iloc[i, :])[0, 1] for i in range(peak_mat.shape[0])]\n",
    "SOX10_promoter_index = heapq.nlargest(10, range(len(SOX10_corr_promoter)), SOX10_corr_promoter.__getitem__)\n",
    "diff_access_sites_promoter = peak_mat.iloc[SOX10_promoter_index, :].index"
   ]
  },
  {
   "cell_type": "code",
   "execution_count": null,
   "id": "0d6a5ca3",
   "metadata": {},
   "outputs": [],
   "source": [
    "# 3'UTR\n",
    "SOX10_corr_3UTR = [np.corrcoef(peak_mat.iloc[np.where(data.var.index == 'chr22:38364975-38365257')[0][0], :],\n",
    "                               peak_mat.iloc[i, :])[0, 1] for i in range(peak_mat.shape[0])]\n",
    "SOX10_3UTR_index = heapq.nlargest(10, range(len(SOX10_corr_3UTR)), SOX10_corr_3UTR.__getitem__)\n",
    "diff_access_sites_3UTR = peak_mat.iloc[SOX10_3UTR_index, :].index"
   ]
  },
  {
   "cell_type": "code",
   "execution_count": null,
   "id": "a294ff88",
   "metadata": {},
   "outputs": [],
   "source": [
    "# merge\n",
    "diff_access_sites = np.hstack([np.array(diff_access_sites_promoter),\n",
    "                               np.array(diff_access_sites_3UTR)])"
   ]
  },
  {
   "cell_type": "code",
   "execution_count": null,
   "id": "1311b700",
   "metadata": {},
   "outputs": [],
   "source": [
    "data.X = (data.X > 0) * 1\n",
    "data.X = np.array(data.X.todense())\n",
    "data_df = pd.DataFrame(data.X,\n",
    "                       index=data.obs_names,\n",
    "                       columns=data.var_names)\n",
    "data1_df = data_df[peak_mat.index]\n",
    "\n",
    "data1 = sc.AnnData(data1_df)\n",
    "data1.var_names_make_unique()\n",
    "data1.obs['celltype'] = data.obs['celltype']\n",
    "\n",
    "fig1, ax = plt.subplots(figsize=(10, 5))\n",
    "plt.subplots_adjust(left=0.13, right=0.95, top=1, bottom=0.4)\n",
    "dp = sc.pl.dotplot(data1, {'Loci co-accessible with SOX10(promoter)':\n",
    "                               diff_access_sites[:10],\n",
    "                           'Loci co-accessible with SOX10(3\\'UTR)':\n",
    "                               diff_access_sites[10:]},\n",
    "                   groupby='celltype', var_group_rotation=0,\n",
    "                   colorbar_title='Mean accessibility\\nin group',\n",
    "                   title='Co-accessible loci of SOX10 computed by SCARP peak feature',\n",
    "                   ax=ax)"
   ]
  },
  {
   "cell_type": "code",
   "execution_count": null,
   "id": "ba6ae2d6",
   "metadata": {},
   "outputs": [],
   "source": [
    "annotation = pd.read_table('../SCARP_R_downstream_analysis/SOX10 data/annotated_genes_Promoter_1000bp.csv',\n",
    "                           sep=',', index_col=0)\n",
    "annotation['peak_name'] = [annotation['seqnames'].iloc[i] + ':' +\n",
    "                           str(annotation['start'].iloc[i] - 1) +\n",
    "                           '-' + str(annotation['end'].iloc[i])\n",
    "                           for i in range(annotation.shape[0])]\n",
    "annotation.index = annotation['peak_name']"
   ]
  },
  {
   "cell_type": "code",
   "execution_count": null,
   "id": "51df09ab",
   "metadata": {},
   "outputs": [],
   "source": [
    "# =============================================================\n",
    "#               前100个\n",
    "# =========================================================\n",
    "SOX10_promoter_index = heapq.nlargest(100, range(len(SOX10_corr_promoter)), SOX10_corr_promoter.__getitem__)\n",
    "diff_access_sites_promoter = peak_mat.iloc[SOX10_promoter_index, :].index\n",
    "\n",
    "SOX10_3UTR_index = heapq.nlargest(100, range(len(SOX10_corr_3UTR)), SOX10_corr_3UTR.__getitem__)\n",
    "diff_access_sites_3UTR = peak_mat.iloc[SOX10_3UTR_index, :].index\n",
    "\n",
    "# merge\n",
    "diff_access_sites = np.hstack([np.array(diff_access_sites_promoter),\n",
    "                               np.array(diff_access_sites_3UTR)])\n",
    "\n",
    "diff_access_sites_df = pd.DataFrame(np.hstack([np.array(['pos' + str(i) for i in range(100)]),\n",
    "                                               np.array(['neg' + str(i) for i in range(100)])]),\n",
    "                                    index=diff_access_sites)\n",
    "anno_diff = annotation.loc[set(diff_access_sites) & set(annotation.index)]\n",
    "anno_diff['relation'] = diff_access_sites_df.loc[anno_diff.index]\n",
    "anno_diff = anno_diff.sort_values(by='relation')\n",
    "# anno_diff.to_csv('./SCARP_78659_peaks_genes.csv')"
   ]
  }
 ],
 "metadata": {
  "kernelspec": {
   "display_name": "scarp1",
   "language": "python",
   "name": "scarp1"
  },
  "language_info": {
   "codemirror_mode": {
    "name": "ipython",
    "version": 3
   },
   "file_extension": ".py",
   "mimetype": "text/x-python",
   "name": "python",
   "nbconvert_exporter": "python",
   "pygments_lexer": "ipython3",
   "version": "3.8.13"
  }
 },
 "nbformat": 4,
 "nbformat_minor": 5
}
