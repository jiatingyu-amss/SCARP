{
 "cells": [
  {
   "cell_type": "markdown",
   "id": "d4ff2306",
   "metadata": {},
   "source": [
    "## Run SCARP to get cell and peak embedding of SOX10 knockdown data"
   ]
  },
  {
   "cell_type": "code",
   "execution_count": 1,
   "id": "d41e4940",
   "metadata": {},
   "outputs": [],
   "source": [
    "import sys\n",
    "sys.path.append('../Scarp/')\n",
    "\n",
    "from downstream import *\n",
    "import warnings\n",
    "warnings.filterwarnings(\"ignore\")"
   ]
  },
  {
   "cell_type": "code",
   "execution_count": 2,
   "id": "80c4c3e6",
   "metadata": {},
   "outputs": [],
   "source": [
    "np.random.seed(1)\n",
    "random_state = 1\n",
    "beta = 5000\n",
    "m = 1.5\n",
    "merge_thre = 3000"
   ]
  },
  {
   "cell_type": "code",
   "execution_count": 3,
   "id": "752f50c2",
   "metadata": {},
   "outputs": [],
   "source": [
    "data = sc.read_h5ad('../Exp1_Benchmark/Processed data/Sox10KD.h5ad')\n",
    "sc.pp.filter_genes(data, min_cells=1)"
   ]
  },
  {
   "cell_type": "code",
   "execution_count": 4,
   "id": "d6c7a82a",
   "metadata": {},
   "outputs": [
    {
     "name": "stdout",
     "output_type": "stream",
     "text": [
      "Number of Peaks: 78661\n",
      "Number of Cells: 598\n",
      "Number of labels:  8\n"
     ]
    }
   ],
   "source": [
    "Cells = data.obs.index\n",
    "Peaks = data.var.index\n",
    "Cells_num, Peaks_num = data.X.shape\n",
    "N = Cells_num + Peaks_num\n",
    "labels = data.obs['celltype'].astype('category')\n",
    "cluster_num = np.unique(labels).shape[0]\n",
    "print('Number of Peaks:', Peaks_num)\n",
    "print('Number of Cells:', Cells_num)\n",
    "print('Number of labels: ', cluster_num)"
   ]
  },
  {
   "cell_type": "code",
   "execution_count": 5,
   "id": "d85e83d5",
   "metadata": {},
   "outputs": [
    {
     "ename": "KeyError",
     "evalue": "'chrM'",
     "output_type": "error",
     "traceback": [
      "\u001b[1;31m---------------------------------------------------------------------------\u001b[0m",
      "\u001b[1;31mKeyError\u001b[0m                                  Traceback (most recent call last)",
      "Input \u001b[1;32mIn [5]\u001b[0m, in \u001b[0;36m<cell line: 1>\u001b[1;34m()\u001b[0m\n\u001b[1;32m----> 1\u001b[0m t, diffusion_mat \u001b[38;5;241m=\u001b[39m \u001b[43mSCARP\u001b[49m\u001b[43m(\u001b[49m\u001b[43mdata\u001b[49m\u001b[38;5;241;43m=\u001b[39;49m\u001b[43mdata\u001b[49m\u001b[43m,\u001b[49m\n\u001b[0;32m      2\u001b[0m \u001b[43m                         \u001b[49m\u001b[43mm\u001b[49m\u001b[38;5;241;43m=\u001b[39;49m\u001b[43mm\u001b[49m\u001b[43m,\u001b[49m\n\u001b[0;32m      3\u001b[0m \u001b[43m                         \u001b[49m\u001b[43mmerge_thre\u001b[49m\u001b[38;5;241;43m=\u001b[39;49m\u001b[43mmerge_thre\u001b[49m\u001b[43m,\u001b[49m\n\u001b[0;32m      4\u001b[0m \u001b[43m                         \u001b[49m\u001b[43mbeta\u001b[49m\u001b[38;5;241;43m=\u001b[39;49m\u001b[43mbeta\u001b[49m\u001b[43m,\u001b[49m\n\u001b[0;32m      5\u001b[0m \u001b[43m                         \u001b[49m\u001b[43mpeak_loc\u001b[49m\u001b[38;5;241;43m=\u001b[39;49m\u001b[38;5;28;43;01mTrue\u001b[39;49;00m\u001b[43m)\u001b[49m\n",
      "File \u001b[1;32mD:\\Users\\jtyu\\SCARP\\Exp4_SOX10_Knockdown\\../Scarp\\SCARP_help_func.py:48\u001b[0m, in \u001b[0;36mSCARP\u001b[1;34m(data, m, merge_thre, beta, return_shape, peak_loc)\u001b[0m\n\u001b[0;32m     46\u001b[0m chri2i[\u001b[38;5;124m'\u001b[39m\u001b[38;5;124mchrX\u001b[39m\u001b[38;5;124m'\u001b[39m] \u001b[38;5;241m=\u001b[39m \u001b[38;5;241m23\u001b[39m\n\u001b[0;32m     47\u001b[0m chri2i[\u001b[38;5;124m'\u001b[39m\u001b[38;5;124mchrY\u001b[39m\u001b[38;5;124m'\u001b[39m] \u001b[38;5;241m=\u001b[39m \u001b[38;5;241m24\u001b[39m\n\u001b[1;32m---> 48\u001b[0m Peaks_array[:, \u001b[38;5;241m0\u001b[39m] \u001b[38;5;241m=\u001b[39m [chri2i[i] \u001b[38;5;28;01mfor\u001b[39;00m i \u001b[38;5;129;01min\u001b[39;00m Peaks_array[:, \u001b[38;5;241m0\u001b[39m]]\n\u001b[0;32m     49\u001b[0m Peaks_df \u001b[38;5;241m=\u001b[39m pd\u001b[38;5;241m.\u001b[39mDataFrame(Peaks_array\u001b[38;5;241m.\u001b[39mastype(\n\u001b[0;32m     50\u001b[0m     \u001b[38;5;124m'\u001b[39m\u001b[38;5;124mfloat\u001b[39m\u001b[38;5;124m'\u001b[39m), columns\u001b[38;5;241m=\u001b[39m[\u001b[38;5;124m'\u001b[39m\u001b[38;5;124mchr\u001b[39m\u001b[38;5;124m'\u001b[39m, \u001b[38;5;124m'\u001b[39m\u001b[38;5;124mfrom\u001b[39m\u001b[38;5;124m'\u001b[39m, \u001b[38;5;124m'\u001b[39m\u001b[38;5;124mto\u001b[39m\u001b[38;5;124m'\u001b[39m])\n\u001b[0;32m     51\u001b[0m Peaks_df \u001b[38;5;241m=\u001b[39m Peaks_df\u001b[38;5;241m.\u001b[39msort_values(by\u001b[38;5;241m=\u001b[39m[\u001b[38;5;124m'\u001b[39m\u001b[38;5;124mchr\u001b[39m\u001b[38;5;124m'\u001b[39m, \u001b[38;5;124m'\u001b[39m\u001b[38;5;124mfrom\u001b[39m\u001b[38;5;124m'\u001b[39m])\n",
      "File \u001b[1;32mD:\\Users\\jtyu\\SCARP\\Exp4_SOX10_Knockdown\\../Scarp\\SCARP_help_func.py:48\u001b[0m, in \u001b[0;36m<listcomp>\u001b[1;34m(.0)\u001b[0m\n\u001b[0;32m     46\u001b[0m chri2i[\u001b[38;5;124m'\u001b[39m\u001b[38;5;124mchrX\u001b[39m\u001b[38;5;124m'\u001b[39m] \u001b[38;5;241m=\u001b[39m \u001b[38;5;241m23\u001b[39m\n\u001b[0;32m     47\u001b[0m chri2i[\u001b[38;5;124m'\u001b[39m\u001b[38;5;124mchrY\u001b[39m\u001b[38;5;124m'\u001b[39m] \u001b[38;5;241m=\u001b[39m \u001b[38;5;241m24\u001b[39m\n\u001b[1;32m---> 48\u001b[0m Peaks_array[:, \u001b[38;5;241m0\u001b[39m] \u001b[38;5;241m=\u001b[39m [\u001b[43mchri2i\u001b[49m\u001b[43m[\u001b[49m\u001b[43mi\u001b[49m\u001b[43m]\u001b[49m \u001b[38;5;28;01mfor\u001b[39;00m i \u001b[38;5;129;01min\u001b[39;00m Peaks_array[:, \u001b[38;5;241m0\u001b[39m]]\n\u001b[0;32m     49\u001b[0m Peaks_df \u001b[38;5;241m=\u001b[39m pd\u001b[38;5;241m.\u001b[39mDataFrame(Peaks_array\u001b[38;5;241m.\u001b[39mastype(\n\u001b[0;32m     50\u001b[0m     \u001b[38;5;124m'\u001b[39m\u001b[38;5;124mfloat\u001b[39m\u001b[38;5;124m'\u001b[39m), columns\u001b[38;5;241m=\u001b[39m[\u001b[38;5;124m'\u001b[39m\u001b[38;5;124mchr\u001b[39m\u001b[38;5;124m'\u001b[39m, \u001b[38;5;124m'\u001b[39m\u001b[38;5;124mfrom\u001b[39m\u001b[38;5;124m'\u001b[39m, \u001b[38;5;124m'\u001b[39m\u001b[38;5;124mto\u001b[39m\u001b[38;5;124m'\u001b[39m])\n\u001b[0;32m     51\u001b[0m Peaks_df \u001b[38;5;241m=\u001b[39m Peaks_df\u001b[38;5;241m.\u001b[39msort_values(by\u001b[38;5;241m=\u001b[39m[\u001b[38;5;124m'\u001b[39m\u001b[38;5;124mchr\u001b[39m\u001b[38;5;124m'\u001b[39m, \u001b[38;5;124m'\u001b[39m\u001b[38;5;124mfrom\u001b[39m\u001b[38;5;124m'\u001b[39m])\n",
      "\u001b[1;31mKeyError\u001b[0m: 'chrM'"
     ]
    }
   ],
   "source": [
    "t, diffusion_mat = SCARP(data=data,\n",
    "                         m=m,\n",
    "                         merge_thre=merge_thre,\n",
    "                         beta=beta,\n",
    "                         peak_loc=True)"
   ]
  },
  {
   "cell_type": "code",
   "execution_count": null,
   "id": "9d81ec2c",
   "metadata": {},
   "outputs": [],
   "source": [
    "cell_embedding = SCARP_cell_embedding(diffusion_mat=diffusion_mat,\n",
    "                                      kept_comp=k)\n",
    "\n",
    "Cells_df = pd.DataFrame(cell_embedding,\n",
    "                        index=Cells,\n",
    "                        columns=['feature' + str(i + 1) for i in range(cell_embedding.shape[1])])\n",
    "Cells_df.to_csv('./Results/SOX10_SCARP_Cells_feature.csv')"
   ]
  },
  {
   "cell_type": "code",
   "execution_count": null,
   "id": "69c0d7c5",
   "metadata": {},
   "outputs": [],
   "source": [
    "adata_cell = sc.AnnData(Cells_df)\n",
    "adata_cell.var_names_make_unique()\n",
    "adata_cell.obs['label'] = labels"
   ]
  },
  {
   "cell_type": "code",
   "execution_count": null,
   "id": "0d3e61c4",
   "metadata": {},
   "outputs": [],
   "source": [
    "sc.pp.neighbors(adata_cell, use_rep='X', random_state=random_state)\n",
    "sc.tl.umap(adata_cell, random_state=random_state)"
   ]
  },
  {
   "cell_type": "code",
   "execution_count": null,
   "id": "dba16d05",
   "metadata": {},
   "outputs": [],
   "source": [
    "fig1, ax = plt.subplots(figsize=(4, 4))\n",
    "sc.pl.umap(adata_cell, color='label', title='SCARP', s=20, ax=ax, save=data_type + 'label.svg')\n",
    "plt.subplots_adjust(right=0.55)"
   ]
  },
  {
   "cell_type": "code",
   "execution_count": null,
   "id": "34d1274a",
   "metadata": {},
   "outputs": [],
   "source": [
    "peaks_embedding = SCARP_cell_embedding(diffusion_mat[:, Cells_num:].T, 20)\n",
    "Peaks_df = pd.DataFrame(peaks_embedding,\n",
    "                        index=Peaks,\n",
    "                        columns=['feature' + str(i + 1) for i in range(peaks_embedding.shape[1])])\n",
    "Peaks_df.to_csv('./Results/SOX10_SCARP_Peaks_feature.csv')"
   ]
  },
  {
   "cell_type": "code",
   "execution_count": null,
   "id": "98042c4a",
   "metadata": {},
   "outputs": [],
   "source": []
  }
 ],
 "metadata": {
  "kernelspec": {
   "display_name": "scarp1",
   "language": "python",
   "name": "scarp1"
  },
  "language_info": {
   "codemirror_mode": {
    "name": "ipython",
    "version": 3
   },
   "file_extension": ".py",
   "mimetype": "text/x-python",
   "name": "python",
   "nbconvert_exporter": "python",
   "pygments_lexer": "ipython3",
   "version": "3.8.13"
  }
 },
 "nbformat": 4,
 "nbformat_minor": 5
}
